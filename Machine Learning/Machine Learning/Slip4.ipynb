{
 "cells": [
  {
   "cell_type": "code",
   "execution_count": 9,
   "id": "ebc31879",
   "metadata": {},
   "outputs": [],
   "source": [
    "import pandas as pd"
   ]
  },
  {
   "cell_type": "code",
   "execution_count": 10,
   "id": "99c59f0d",
   "metadata": {},
   "outputs": [],
   "source": [
    "from sklearn.linear_model import LinearRegression"
   ]
  },
  {
   "cell_type": "code",
   "execution_count": 11,
   "id": "0f285207",
   "metadata": {},
   "outputs": [],
   "source": [
    "df = pd.read_csv(\"datasets/housing.csv\")"
   ]
  },
  {
   "cell_type": "code",
   "execution_count": 12,
   "id": "23f364f0",
   "metadata": {},
   "outputs": [],
   "source": [
    "X = df[['area']]"
   ]
  },
  {
   "cell_type": "code",
   "execution_count": 13,
   "id": "81e0a291",
   "metadata": {},
   "outputs": [],
   "source": [
    "y = df['price']"
   ]
  },
  {
   "cell_type": "code",
   "execution_count": 14,
   "id": "49271352",
   "metadata": {},
   "outputs": [],
   "source": [
    "regr = LinearRegression()"
   ]
  },
  {
   "cell_type": "code",
   "execution_count": 15,
   "id": "c811e3cc",
   "metadata": {},
   "outputs": [
    {
     "data": {
      "text/plain": [
       "LinearRegression()"
      ]
     },
     "execution_count": 15,
     "metadata": {},
     "output_type": "execute_result"
    }
   ],
   "source": [
    "regr.fit(X , y)"
   ]
  },
  {
   "cell_type": "code",
   "execution_count": 16,
   "id": "1258cec4",
   "metadata": {},
   "outputs": [],
   "source": [
    "predictval = regr.predict([[2300]])"
   ]
  },
  {
   "cell_type": "code",
   "execution_count": 17,
   "id": "6250e34e",
   "metadata": {},
   "outputs": [
    {
     "name": "stdout",
     "output_type": "stream",
     "text": [
      "[3449850.73922383]\n"
     ]
    }
   ],
   "source": [
    "print(predictval)"
   ]
  }
 ],
 "metadata": {
  "kernelspec": {
   "display_name": "Python 3",
   "language": "python",
   "name": "python3"
  },
  "language_info": {
   "codemirror_mode": {
    "name": "ipython",
    "version": 3
   },
   "file_extension": ".py",
   "mimetype": "text/x-python",
   "name": "python",
   "nbconvert_exporter": "python",
   "pygments_lexer": "ipython3",
   "version": "3.8.8"
  }
 },
 "nbformat": 4,
 "nbformat_minor": 5
}
