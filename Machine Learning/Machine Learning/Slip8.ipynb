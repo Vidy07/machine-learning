{
 "cells": [
  {
   "cell_type": "code",
   "execution_count": 24,
   "id": "bf915a55",
   "metadata": {},
   "outputs": [],
   "source": [
    "import pandas as pd"
   ]
  },
  {
   "cell_type": "code",
   "execution_count": 25,
   "id": "927fefaa",
   "metadata": {},
   "outputs": [],
   "source": [
    "from sklearn.preprocessing import LabelEncoder "
   ]
  },
  {
   "cell_type": "code",
   "execution_count": 26,
   "id": "3f4b216a",
   "metadata": {},
   "outputs": [],
   "source": [
    "from sklearn.model_selection import train_test_split"
   ]
  },
  {
   "cell_type": "code",
   "execution_count": 27,
   "id": "45c79359",
   "metadata": {},
   "outputs": [],
   "source": [
    "from sklearn.naive_bayes import GaussianNB"
   ]
  },
  {
   "cell_type": "code",
   "execution_count": 28,
   "id": "5e738805",
   "metadata": {},
   "outputs": [],
   "source": [
    "df = pd.read_csv(\"datasets/play_tennis.csv\")"
   ]
  },
  {
   "cell_type": "code",
   "execution_count": 29,
   "id": "c05a216b",
   "metadata": {},
   "outputs": [],
   "source": [
    "le = LabelEncoder()"
   ]
  },
  {
   "cell_type": "code",
   "execution_count": 30,
   "id": "71fb7d59",
   "metadata": {},
   "outputs": [],
   "source": [
    "df['outlook'] = le.fit_transform(df['outlook'])"
   ]
  },
  {
   "cell_type": "code",
   "execution_count": 31,
   "id": "3e62437e",
   "metadata": {},
   "outputs": [],
   "source": [
    "df['wind'] = le.fit_transform(df['wind'])"
   ]
  },
  {
   "cell_type": "code",
   "execution_count": 32,
   "id": "268587a5",
   "metadata": {},
   "outputs": [],
   "source": [
    "df['humidity'] = le.fit_transform(df['humidity'])"
   ]
  },
  {
   "cell_type": "code",
   "execution_count": 33,
   "id": "c71e0776",
   "metadata": {},
   "outputs": [],
   "source": [
    "df['temp'] = le.fit_transform(df['temp'])"
   ]
  },
  {
   "cell_type": "code",
   "execution_count": 34,
   "id": "10869315",
   "metadata": {},
   "outputs": [],
   "source": [
    "df['play'] = le.fit_transform(df['play'])"
   ]
  },
  {
   "cell_type": "code",
   "execution_count": 37,
   "id": "f8db25cb",
   "metadata": {},
   "outputs": [],
   "source": [
    "x = df[['outlook' ,'temp', 'humidity','wind']]"
   ]
  },
  {
   "cell_type": "code",
   "execution_count": 38,
   "id": "e36de848",
   "metadata": {},
   "outputs": [],
   "source": [
    "y = df['play']"
   ]
  },
  {
   "cell_type": "code",
   "execution_count": 39,
   "id": "16e590d0",
   "metadata": {},
   "outputs": [],
   "source": [
    "xtrain , xtest , ytrain , ytest = train_test_split(x, y , test_size = 0.2)"
   ]
  },
  {
   "cell_type": "code",
   "execution_count": 40,
   "id": "ce97b485",
   "metadata": {},
   "outputs": [],
   "source": [
    "model = GaussianNB()"
   ]
  },
  {
   "cell_type": "code",
   "execution_count": 41,
   "id": "80c40aff",
   "metadata": {},
   "outputs": [
    {
     "data": {
      "text/plain": [
       "GaussianNB()"
      ]
     },
     "execution_count": 41,
     "metadata": {},
     "output_type": "execute_result"
    }
   ],
   "source": [
    "model.fit(xtrain , ytrain )"
   ]
  },
  {
   "cell_type": "code",
   "execution_count": 42,
   "id": "4b45ba58",
   "metadata": {},
   "outputs": [],
   "source": [
    "predicted = model.predict(xtest)"
   ]
  },
  {
   "cell_type": "code",
   "execution_count": 43,
   "id": "2084245b",
   "metadata": {},
   "outputs": [
    {
     "name": "stdout",
     "output_type": "stream",
     "text": [
      "[1 1 1]\n"
     ]
    }
   ],
   "source": [
    "print(predicted)"
   ]
  }
 ],
 "metadata": {
  "kernelspec": {
   "display_name": "Python 3",
   "language": "python",
   "name": "python3"
  },
  "language_info": {
   "codemirror_mode": {
    "name": "ipython",
    "version": 3
   },
   "file_extension": ".py",
   "mimetype": "text/x-python",
   "name": "python",
   "nbconvert_exporter": "python",
   "pygments_lexer": "ipython3",
   "version": "3.8.8"
  }
 },
 "nbformat": 4,
 "nbformat_minor": 5
}
