{
 "cells": [
  {
   "cell_type": "code",
   "execution_count": 1,
   "id": "6e81242e",
   "metadata": {},
   "outputs": [],
   "source": [
    "import pandas as pd"
   ]
  },
  {
   "cell_type": "code",
   "execution_count": 2,
   "id": "efd75988",
   "metadata": {},
   "outputs": [],
   "source": [
    "from sklearn.linear_model import LinearRegression"
   ]
  },
  {
   "cell_type": "code",
   "execution_count": 3,
   "id": "e10f77a1",
   "metadata": {},
   "outputs": [],
   "source": [
    "from sklearn.preprocessing import PolynomialFeatures"
   ]
  },
  {
   "cell_type": "code",
   "execution_count": 4,
   "id": "a74042c5",
   "metadata": {},
   "outputs": [],
   "source": [
    "import matplotlib.pyplot as plt"
   ]
  },
  {
   "cell_type": "code",
   "execution_count": 5,
   "id": "535d9c5a",
   "metadata": {},
   "outputs": [],
   "source": [
    "df = pd.read_csv(\"datasets/poly.csv\")"
   ]
  },
  {
   "cell_type": "code",
   "execution_count": 6,
   "id": "a1f0db9f",
   "metadata": {},
   "outputs": [],
   "source": [
    "poly_x = df[['col1']]"
   ]
  },
  {
   "cell_type": "code",
   "execution_count": 7,
   "id": "5e077bd5",
   "metadata": {},
   "outputs": [],
   "source": [
    "y = df['col2']"
   ]
  },
  {
   "cell_type": "code",
   "execution_count": 8,
   "id": "c28ff30f",
   "metadata": {},
   "outputs": [],
   "source": [
    "regr = LinearRegression()"
   ]
  },
  {
   "cell_type": "code",
   "execution_count": 9,
   "id": "aad4897e",
   "metadata": {},
   "outputs": [],
   "source": [
    "poly = PolynomialFeatures(degree = 3)"
   ]
  },
  {
   "cell_type": "code",
   "execution_count": 10,
   "id": "59fcd9c9",
   "metadata": {},
   "outputs": [],
   "source": [
    "lin_x = poly.fit_transform(poly_x)"
   ]
  },
  {
   "cell_type": "code",
   "execution_count": 11,
   "id": "d6617fc7",
   "metadata": {},
   "outputs": [
    {
     "data": {
      "text/plain": [
       "LinearRegression()"
      ]
     },
     "execution_count": 11,
     "metadata": {},
     "output_type": "execute_result"
    }
   ],
   "source": [
    "regr.fit(lin_x , y)"
   ]
  },
  {
   "cell_type": "code",
   "execution_count": 14,
   "id": "46a9d026",
   "metadata": {},
   "outputs": [],
   "source": [
    "poly_test= [[999]]"
   ]
  },
  {
   "cell_type": "code",
   "execution_count": 15,
   "id": "eb9c5b4e",
   "metadata": {},
   "outputs": [],
   "source": [
    "lin_test = poly.fit_transform(poly_test)"
   ]
  },
  {
   "cell_type": "code",
   "execution_count": 16,
   "id": "c3db36da",
   "metadata": {},
   "outputs": [],
   "source": [
    "predicted = regr.predict(lin_test)"
   ]
  },
  {
   "cell_type": "code",
   "execution_count": 17,
   "id": "216c7942",
   "metadata": {},
   "outputs": [
    {
     "name": "stdout",
     "output_type": "stream",
     "text": [
      "[395.46659392]\n"
     ]
    }
   ],
   "source": [
    "print(predicted)"
   ]
  },
  {
   "cell_type": "code",
   "execution_count": 20,
   "id": "f46efd34",
   "metadata": {},
   "outputs": [
    {
     "data": {
      "image/png": "[encoded data removed]",
      "text/plain": [
       "<Figure size 432x288 with 1 Axes>"
      ]
     },
     "metadata": {
      "needs_background": "light"
     },
     "output_type": "display_data"
    }
   ],
   "source": [
    "lt.scatter(poly_x , y , color = 'blue')\n",
    "plt.plot(poly_x , regr.predict(lin_x) , color = 'red')\n",
    "plt.show()"
   ]
  }
 ],
 "metadata": {
  "kernelspec": {
   "display_name": "Python 3",
   "language": "python",
   "name": "python3"
  },
  "language_info": {
   "codemirror_mode": {
    "name": "ipython",
    "version": 3
   },
   "file_extension": ".py",
   "mimetype": "text/x-python",
   "name": "python",
   "nbconvert_exporter": "python",
   "pygments_lexer": "ipython3",
   "version": "3.8.8"
  }
 },
 "nbformat": 4,
 "nbformat_minor": 5
}
